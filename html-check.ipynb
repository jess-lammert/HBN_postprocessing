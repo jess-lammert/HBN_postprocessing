{
 "cells": [
  {
   "cell_type": "markdown",
   "id": "3fd2e717-d56c-4a5e-8a18-4d155d3f78c3",
   "metadata": {},
   "source": [
    "Description: The purpose of this script is to compare the .html files produced by fmriprep in the output directory to the participant IDs listed in the participants.tsv file in the input (BIDS) directory. If there is NO corresponding .html for the participant ID, fmriprep did not initialize. If there IS a corresponding .html for the participant ID, fmriprep initialized but may not have completed. Further examination is needed to determine if fmriprep was completed (examine .out files) or if uninitialized participants can be processed at a later time (see BIDS count, diagnose errors)."
   ]
  },
  {
   "cell_type": "code",
   "execution_count": 6,
   "id": "975ba74f-cdc9-4fed-afe3-668963e6c67d",
   "metadata": {},
   "outputs": [],
   "source": [
    "#imports\n",
    "import argparse\n",
    "import os\n",
    "import glob\n",
    "import pandas as pd\n",
    "import numpy as np"
   ]
  },
  {
   "cell_type": "code",
   "execution_count": 7,
   "id": "469eca72-13d5-41e1-b41b-d52367750861",
   "metadata": {},
   "outputs": [],
   "source": [
    "#to run .py from command line\n",
    "\n",
    "#parser = argparse.ArgumentParser(description='Sorts a BIDS data directory and give a summary of T1w, fieldmap, and fMRI data.')\n",
    "\n",
    "#parser.add_argument('--bids_dir', help='Path to the bids directory', type=str)\n",
    "#parser.add_argument('--out_dir', help='Out put path where you want the summary tables to be saved', type=str)\n",
    "                    \n",
    "#args = parser.parse_args()\n",
    "#bids_dir = args.bids_dir\n",
    "#out_dir = args.out_dir"
   ]
  },
  {
   "cell_type": "code",
   "execution_count": 8,
   "id": "8c205afa-b841-49cd-989a-fb082b562d56",
   "metadata": {},
   "outputs": [],
   "source": [
    "#define directories for testing\n",
    "\n",
    "p_tsv = pd.read_table('/cifs/butler/HBN_data/TD_test_set/participants.tsv') #participants.tsv as dataframe\n",
    "fmriprep_out = '/cifs/butler/HBN_data/TD_test_set_output' #fmriprep output .htmls\n",
    "pp_out = '/cifs/butler/HBN_data/preprocessing/postprocessing_outputs' #save summary .csv here\n"
   ]
  },
  {
   "cell_type": "code",
   "execution_count": 9,
   "id": "f9cd241d-ce19-4930-9de7-11679df39cd9",
   "metadata": {},
   "outputs": [],
   "source": [
    "#define functions\n",
    "\n",
    "def list_files(path, *keywords): #keyword is type of file (e.g., \".html\")\n",
    "    os.chdir(path)\n",
    "    files = []\n",
    "    for keyword in keywords:\n",
    "        files.extend(glob.glob(keyword))\n",
    "    return [os.path.basename(file) for file in files] #returns list of files in given directory\n"
   ]
  },
  {
   "cell_type": "code",
   "execution_count": 12,
   "id": "2447268e-518b-4851-8bb4-89b2cc978d6c",
   "metadata": {},
   "outputs": [],
   "source": [
    "#compare files\n",
    "\n",
    "htmls = list_files(fmriprep_out, \"*.html*\") #gets list of .html files in fmriprep output directory\n",
    "htmls = [html.strip(\".html\") for html in htmls] #remove .html from filenames to compare with .tsv \n",
    "\n",
    "matches = p_tsv.copy()\n",
    "matches['html'] = np.where(matches['participant_id'].isin(htmls), 'yes', 'no')"
   ]
  },
  {
   "cell_type": "code",
   "execution_count": 11,
   "id": "8697f8e5-4740-4493-9c51-886999bc04af",
   "metadata": {},
   "outputs": [],
   "source": [
    "#save out html matches\n",
    "\n",
    "matches.to_csv(pp_out+'/html-check_all.csv', sep=',', index=False)\n",
    "\n",
    "#get participants with no .html\n",
    "no_html = matches[matches[\"html\"] == \"no\"]\n",
    "no_html.to_csv(pp_out+'/html-check_no-html.csv', sep=',', index=False)\n",
    "\n",
    "#get participants with .html\n",
    "yes_html = matches[matches[\"html\"] == \"yes\"]\n",
    "yes_html.to_csv(pp_out+'/html-check_yes-html.csv', sep=',', index=False)\n"
   ]
  }
 ],
 "metadata": {
  "kernelspec": {
   "display_name": "Python 3 (ipykernel)",
   "language": "python",
   "name": "python3"
  },
  "language_info": {
   "codemirror_mode": {
    "name": "ipython",
    "version": 3
   },
   "file_extension": ".py",
   "mimetype": "text/x-python",
   "name": "python",
   "nbconvert_exporter": "python",
   "pygments_lexer": "ipython3",
   "version": "3.9.5"
  }
 },
 "nbformat": 4,
 "nbformat_minor": 5
}
